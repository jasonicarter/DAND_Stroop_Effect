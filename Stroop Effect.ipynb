{
 "cells": [
  {
   "cell_type": "markdown",
   "metadata": {},
   "source": [
    "# P1 - Stroop Effect"
   ]
  },
  {
   "cell_type": "markdown",
   "metadata": {},
   "source": [
    "In a Stroop task, participants are presented with a list of words, with each word displayed in a color of ink. The participant’s task is to say out loud the color of the ink in which the word is printed. The task has two conditions: a congruent words condition, and an incongruent words condition. In the congruent words condition, the words being displayed are color words whose names match the colors in which they are printed: for example RED, BLUE. In the incongruent words condition, the words displayed are color words whose names do not match the colors in which they are printed: for example PURPLE, ORANGE. In each case, we measure the time it takes to name the ink colors in equally-sized lists. Each participant will go through and record a time from each condition."
   ]
  },
  {
   "cell_type": "markdown",
   "metadata": {},
   "source": [
    "**My test results:**\n",
    "\n",
    "Congruent words  - 10.905\n",
    "\n",
    "Incongruent words  - 34.41"
   ]
  },
  {
   "cell_type": "markdown",
   "metadata": {},
   "source": [
    "#### 1. What is our independent variable? What is our dependent variable?\n",
    "Independent variable is: The word/colour congruency is the varable being manipulated in the experiment\n",
    "\n",
    "Dependent variable is: The time it takes to recognize/name the ink colors of the mismatch word/colour congruency"
   ]
  },
  {
   "cell_type": "markdown",
   "metadata": {},
   "source": [
    "#### 2. What is an appropriate set of hypotheses for this task? What kind of statistical test do you expect to perform? Justify your choices.\n",
    "Null Hypothsis, H0 - The mismatch of color to word will have no effect or decrease time to recognize and say the color\n",
    "\n",
    "Alternate Hypothesis, H1 - The mismatch of color to word will increase time to recognize and say the color\n",
    "\n",
    "H0: μi ≤ μc (μi - population mean of incongruent values, μc - population mean of congruent values)\n",
    "\n",
    "H1: μi > μc (μi - population mean of incongruent values, μc - population mean of congruent values)\n",
    "\n",
    "\n",
    "**statistical test choices and assumptions**\n",
    "* 95% confidence interval\n",
    "\n",
    "* Paired one tail t-test -> with two tests per participant this test show if the mean of incongruent words is statistically significantly different from the congruent words at an alpha of 0.05.\n",
    "\n",
    "**assumptions/why**: I will be using a t-test instead of a z-test because 1) the population standard deviation is unknown and 2) the sample set is less than 30. The t-test will be a one tailed t-test i.e. my directional alternative hypothesis is that participant's incongruent sample mean will be larger than the participant's congruent sample mean\n",
    "\n",
    "A paired t-test (or dependent sample test), will be used because the data set is of one group of participants tested twice under different conditions (word/colour congruency). This will also facilitate either rejecting or accepting the null hypothesis."
   ]
  },
  {
   "cell_type": "markdown",
   "metadata": {},
   "source": [
    "#### 3. Report some descriptive statistics regarding this dataset. Include at least one measure of central tendency and at least one measure of variability.\n",
    "\n",
    "**sample size** = 24\n",
    "\n",
    "**mean:** $xbar = \\Sigma{x}/n$ (where xbar is the sample mean, x is the value and n is the number of samples)\n",
    "\n",
    "Congruent: 14.05, Incogruent: 22.02\n",
    "\n",
    "**median:** as the data seems slightly positively skewed, median is a better representation of central tendency\n",
    "\n",
    "Congruent: 14.3565, Incongruent: 21.0175\n",
    "\n",
    "**sample std. deviation:** $\\sigma = \\Sigma{(x - xbar)^2}/n$\n",
    "\n",
    "Congruent: 3.56, Incongruent: 4.80"
   ]
  },
  {
   "cell_type": "code",
   "execution_count": 6,
   "metadata": {
    "collapsed": false
   },
   "outputs": [],
   "source": [
    "# Render our plots inline\n",
    "%matplotlib inline\n",
    "\n",
    "import matplotlib.pyplot as plt\n",
    "import pandas as pd\n",
    "import numpy as np\n",
    "\n",
    "stroop = pd.read_csv(\"stroopdata.csv\")"
   ]
  },
  {
   "cell_type": "code",
   "execution_count": 7,
   "metadata": {
    "collapsed": false
   },
   "outputs": [
    {
     "name": "stdout",
     "output_type": "stream",
     "text": [
      "    Congruent  Incongruent\n",
      "0      12.079       19.278\n",
      "1      16.791       18.741\n",
      "2       9.564       21.214\n",
      "3       8.630       15.687\n",
      "4      14.669       22.803\n",
      "5      12.238       20.878\n",
      "6      14.692       24.572\n",
      "7       8.987       17.394\n",
      "8       9.401       20.762\n",
      "9      14.480       26.282\n",
      "10     22.328       24.524\n",
      "11     15.298       18.644\n",
      "12     15.073       17.510\n",
      "13     16.929       20.330\n",
      "14     18.200       35.255\n",
      "15     12.130       22.158\n",
      "16     18.495       25.139\n",
      "17     10.639       20.429\n",
      "18     11.344       17.425\n",
      "19     12.369       34.288\n",
      "20     12.944       23.894\n",
      "21     14.233       17.960\n",
      "22     19.710       22.058\n",
      "23     16.004       21.157\n"
     ]
    }
   ],
   "source": [
    "# dataset\n",
    "print(stroop)"
   ]
  },
  {
   "cell_type": "code",
   "execution_count": 58,
   "metadata": {
    "collapsed": false
   },
   "outputs": [
    {
     "data": {
      "text/html": [
       "<div>\n",
       "<table border=\"1\" class=\"dataframe\">\n",
       "  <thead>\n",
       "    <tr style=\"text-align: right;\">\n",
       "      <th></th>\n",
       "      <th>Congruent</th>\n",
       "      <th>Incongruent</th>\n",
       "    </tr>\n",
       "  </thead>\n",
       "  <tbody>\n",
       "    <tr>\n",
       "      <th>count</th>\n",
       "      <td>24.000000</td>\n",
       "      <td>24.000000</td>\n",
       "    </tr>\n",
       "    <tr>\n",
       "      <th>mean</th>\n",
       "      <td>14.051125</td>\n",
       "      <td>22.015917</td>\n",
       "    </tr>\n",
       "    <tr>\n",
       "      <th>std</th>\n",
       "      <td>3.559358</td>\n",
       "      <td>4.797057</td>\n",
       "    </tr>\n",
       "    <tr>\n",
       "      <th>min</th>\n",
       "      <td>8.630000</td>\n",
       "      <td>15.687000</td>\n",
       "    </tr>\n",
       "    <tr>\n",
       "      <th>25%</th>\n",
       "      <td>11.895250</td>\n",
       "      <td>18.716750</td>\n",
       "    </tr>\n",
       "    <tr>\n",
       "      <th>50%</th>\n",
       "      <td>14.356500</td>\n",
       "      <td>21.017500</td>\n",
       "    </tr>\n",
       "    <tr>\n",
       "      <th>75%</th>\n",
       "      <td>16.200750</td>\n",
       "      <td>24.051500</td>\n",
       "    </tr>\n",
       "    <tr>\n",
       "      <th>max</th>\n",
       "      <td>22.328000</td>\n",
       "      <td>35.255000</td>\n",
       "    </tr>\n",
       "  </tbody>\n",
       "</table>\n",
       "</div>"
      ],
      "text/plain": [
       "       Congruent  Incongruent\n",
       "count  24.000000    24.000000\n",
       "mean   14.051125    22.015917\n",
       "std     3.559358     4.797057\n",
       "min     8.630000    15.687000\n",
       "25%    11.895250    18.716750\n",
       "50%    14.356500    21.017500\n",
       "75%    16.200750    24.051500\n",
       "max    22.328000    35.255000"
      ]
     },
     "execution_count": 58,
     "metadata": {},
     "output_type": "execute_result"
    }
   ],
   "source": [
    "# descriptive stats\n",
    "stroop.describe()"
   ]
  },
  {
   "cell_type": "code",
   "execution_count": 65,
   "metadata": {
    "collapsed": false
   },
   "outputs": [
    {
     "data": {
      "text/plain": [
       "(14.3565, 21.0175)"
      ]
     },
     "execution_count": 65,
     "metadata": {},
     "output_type": "execute_result"
    }
   ],
   "source": [
    "# median / 50% values\n",
    "congruent = stroop['Congruent']\n",
    "incongruent = stroop['Incongruent']\n",
    "congruent.median(), incongruent.median()\n"
   ]
  },
  {
   "cell_type": "markdown",
   "metadata": {},
   "source": [
    "#### 4. Provide one or two visualizations that show the distribution of the sample data. Write one or two sentences noting what you observe about the plot or plots.\n",
    "\n",
    "**Plots**\n",
    "\n",
    "Please see below a boxplot and histogram which show the distribution of data from both congruent and incongruent conditions.\n",
    "\n",
    "**Observations**\n",
    "\n",
    "From the boxplot, there are two somewhat obvious outliers or extraneous data which would possible skew the true mean of incongruent values. And from the histogram plots, although both graphs visually appear somewhat positively skewed, the mean is pretty close to the peak in both graphs which would indicate a normal distribution. Provided these are samples from the population, the sampling mean would be similar to the population mean."
   ]
  },
  {
   "cell_type": "code",
   "execution_count": 59,
   "metadata": {
    "collapsed": false
   },
   "outputs": [
    {
     "data": {
      "text/plain": [
       "array([[<matplotlib.axes._subplots.AxesSubplot object at 0x11e7c3b50>,\n",
       "        <matplotlib.axes._subplots.AxesSubplot object at 0x11e684b10>]], dtype=object)"
      ]
     },
     "execution_count": 59,
     "metadata": {},
     "output_type": "execute_result"
    },
    {
     "data": {
      "image/png": "[encoded data removed]",
      "text/plain": [
       "<matplotlib.figure.Figure at 0x11bef5490>"
      ]
     },
     "metadata": {},
     "output_type": "display_data"
    },
    {
     "data": {
      "image/png": "[encoded data removed]",
      "text/plain": [
       "<matplotlib.figure.Figure at 0x11e6b7e50>"
      ]
     },
     "metadata": {},
     "output_type": "display_data"
    }
   ],
   "source": [
    "data = np.genfromtxt('stroopdata.csv', delimiter=',',dtype=np.float32)\n",
    "plt.figure(1, figsize=(9, 6))\n",
    "\n",
    "plot1 = plt.boxplot(data,vert=True,widths = 0.2,patch_artist=True)\n",
    "\n",
    "plt.setp(plot1['boxes'], color='#1b9e77', linewidth=2, facecolor='#1b9e77')\n",
    "plt.setp(plot1['whiskers'], color='#7570b3', linewidth=2) \n",
    "plt.setp(plot1['caps'], color='#7570b3', linewidth=2)\n",
    "plt.setp(plot1['fliers'], color='#e7298a', marker='o', markersize=10) \n",
    "plt.setp(plot1['medians'], color='#b2df8a', linewidth=2)\n",
    "\n",
    "# histogram\n",
    "stroop.hist()"
   ]
  },
  {
   "cell_type": "markdown",
   "metadata": {},
   "source": [
    "#### 5. Now, perform the statistical test and report your results. What is your confidence level and your critical statistic value? Do you reject the null hypothesis or fail to reject it? Come to a conclusion in terms of the experiment task. Did the results match up with your expectations?\n",
    "\n",
    "\n",
    "**mean difference**, dbar = $\\Sigma (yi − xc)/n$ = 7.964\n",
    "\n",
    "yi is incongruent, xc is the congruent values, n is the sample set\n",
    "\n",
    "**standard deviation**, sd = 4.86\n",
    "\n",
    "**standard error of the difference**, SE(dbar) = sd/√n = 4.86/√24 = 0.99\n",
    "\n",
    "**t-statistic**, T = dbar/SE(dbar) = 7.964/0.99 = 8.04 on 23df\n",
    "\n",
    "t-distribution with n-1 degrees of freedom (df = 23). Using the t-distribution table to find p-value...\n",
    "\n",
    "The value of **p is < 0.0001**. The result is **significant at p < 0.05%**\n",
    "\n",
    "**Hypothesis**\n",
    "\n",
    "I reject the null hypothesis, the word/colour incongruent does cause a greater time response\n",
    "\n",
    "**Conclusion**\n",
    "\n",
    "The results match my expectations. "
   ]
  },
  {
   "cell_type": "code",
   "execution_count": 5,
   "metadata": {
    "collapsed": false
   },
   "outputs": [
    {
     "name": "stdout",
     "output_type": "stream",
     "text": [
      "    Congruent  InCongruent  Difference  Mean Difference  Std Deviation\n",
      "0      12.079       19.278       7.199         7.964792       4.864827\n",
      "1      16.791       18.741       1.950              NaN            NaN\n",
      "2       9.564       21.214      11.650              NaN            NaN\n",
      "3       8.630       15.687       7.057              NaN            NaN\n",
      "4      14.669       22.803       8.134              NaN            NaN\n",
      "5      12.238       20.878       8.640              NaN            NaN\n",
      "6      14.692       24.572       9.880              NaN            NaN\n",
      "7       8.987       17.394       8.407              NaN            NaN\n",
      "8       9.401       20.762      11.361              NaN            NaN\n",
      "9      14.480       26.282      11.802              NaN            NaN\n",
      "10     22.328       24.524       2.196              NaN            NaN\n",
      "11     15.298       18.644       3.346              NaN            NaN\n",
      "12     15.073       17.510       2.437              NaN            NaN\n",
      "13     16.929       20.330       3.401              NaN            NaN\n",
      "14     18.200       35.255      17.055              NaN            NaN\n",
      "15     12.130       22.158      10.028              NaN            NaN\n",
      "16     18.495       25.139       6.644              NaN            NaN\n",
      "17     10.639       20.429       9.790              NaN            NaN\n",
      "18     11.344       17.425       6.081              NaN            NaN\n",
      "19     12.369       34.288      21.919              NaN            NaN\n",
      "20     12.944       23.894      10.950              NaN            NaN\n",
      "21     14.233       17.960       3.727              NaN            NaN\n",
      "22     19.710       22.058       2.348              NaN            NaN\n",
      "23     16.004       21.157       5.153              NaN            NaN\n"
     ]
    }
   ],
   "source": [
    "stroop = pd.read_csv(\"stroopdata_updated.csv\")\n",
    "print(stroop)"
   ]
  },
  {
   "cell_type": "markdown",
   "metadata": {},
   "source": [
    "#### 6. Optional: What do you think is responsible for the effects observed? Can you think of an alternative or similar task that would result in a similar effect? Some research about the problem will be helpful for thinking about these two questions!\n",
    "\n",
    "I believe it's a subconscious or habitual behaviour where commonly used words are glanced over and easily recognized in your mind and therefore, because the color and words match, it takes little effort to say the word/colour. However, when the word and colour are mismatched, we first think of the word and then need to correct ourselves to say the colour causing either errors or more time to provide the correct response.\n",
    "\n",
    "I imagine replacing letters with numbers in the experiment would yeild the same results. \n",
    "\n",
    "Another similar task: being shown a list of words and asking the user to type (on a qwerty keyboard) commonly used words. First, use a list words with no spelling mistakes and then the same list of words with obviously misspelling or a number in the middle of the word. The reflects of knowing where the keys are positioned and the knoweledge of the correctly spelt word would allow cause the users to produce a fast time for correctly spelt words and a longer time to recognize that the word is spelt incorrectly and having to change their habitual behaviour, causing a lag and longer time to complet the word."
   ]
  },
  {
   "cell_type": "markdown",
   "metadata": {},
   "source": [
    "#### References"
   ]
  },
  {
   "cell_type": "markdown",
   "metadata": {},
   "source": [
    "https://en.wikipedia.org/wiki/Stroop_effect\n",
    "\n",
    "http://www.statisticshowto.com/when-to-use-a-t-score-vs-z-score/\n",
    "\n",
    "http://www.biostathandbook.com/testchoice.html\n",
    "\n",
    "http://www.ats.ucla.edu/stat/stata/whatstat/whatstat.htm\n",
    "\n",
    "http://www.statstutor.ac.uk/resources/uploaded/paired-t-test.pdf\n",
    "\n",
    "https://www.stat.tamu.edu/~lzhou/stat302/T-Table.pdf"
   ]
  }
 ],
 "metadata": {
  "kernelspec": {
   "display_name": "Python 2",
   "language": "python",
   "name": "python2"
  },
  "language_info": {
   "codemirror_mode": {
    "name": "ipython",
    "version": 2
   },
   "file_extension": ".py",
   "mimetype": "text/x-python",
   "name": "python",
   "nbconvert_exporter": "python",
   "pygments_lexer": "ipython2",
   "version": "2.7.11"
  }
 },
 "nbformat": 4,
 "nbformat_minor": 0
}
